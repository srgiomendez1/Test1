{
 "cells": [
  {
   "cell_type": "code",
   "execution_count": 1,
   "id": "323a2b72-9f2e-471b-b6da-bb317cdf0c5f",
   "metadata": {},
   "outputs": [
    {
     "name": "stdout",
     "output_type": "stream",
     "text": [
      "yall\n"
     ]
    }
   ],
   "source": [
    "print('yall')\n"
   ]
  },
  {
   "cell_type": "code",
   "execution_count": 1,
   "id": "d10b42c3-2ce3-4d58-a9da-feb7acdfc2cf",
   "metadata": {},
   "outputs": [],
   "source": [
    "import pandas as pd\n"
   ]
  },
  {
   "cell_type": "code",
   "execution_count": 2,
   "id": "fc7f11df-6c0a-4e1d-8108-7e1c65182c89",
   "metadata": {},
   "outputs": [
    {
     "name": "stdout",
     "output_type": "stream",
     "text": [
      "5\n",
      "25\n"
     ]
    }
   ],
   "source": [
    "x = min(5, 10, 25)\n",
    "y = max(5, 10, 25)\n",
    "print(x)\n",
    "print(y)"
   ]
  },
  {
   "cell_type": "code",
   "execution_count": 3,
   "id": "50f0e78c-ff04-40a0-937b-a68c66a8eb19",
   "metadata": {},
   "outputs": [
    {
     "name": "stdout",
     "output_type": "stream",
     "text": [
      "64\n"
     ]
    }
   ],
   "source": [
    "x = pow(4, 3)\n",
    "print(x)"
   ]
  },
  {
   "cell_type": "code",
   "execution_count": 16,
   "id": "5a1fa582-2a88-43a9-873d-5b5255ff95b5",
   "metadata": {},
   "outputs": [],
   "source": [
    "nam = (r'/Users/sergiommendezl/Downloads/noaa-weather-data-jfk-airport/clean_data.py')\n",
    "\n",
    "\n"
   ]
  },
  {
   "cell_type": "code",
   "execution_count": 17,
   "id": "642b03ee-2b3c-4bc1-b59f-c366ee2bd4c5",
   "metadata": {},
   "outputs": [],
   "source": [
    "# %load nam\n",
    "/Users/sergiommendezl/Downloads/noaa-weather-data-jfk-airport/clean_data.py"
   ]
  },
  {
   "cell_type": "code",
   "execution_count": null,
   "id": "9cb63082-d1fd-42f7-b961-149012add202",
   "metadata": {},
   "outputs": [],
   "source": []
  }
 ],
 "metadata": {
  "kernelspec": {
   "display_name": "Python 3 (ipykernel)",
   "language": "python",
   "name": "python3"
  },
  "language_info": {
   "codemirror_mode": {
    "name": "ipython",
    "version": 3
   },
   "file_extension": ".py",
   "mimetype": "text/x-python",
   "name": "python",
   "nbconvert_exporter": "python",
   "pygments_lexer": "ipython3",
   "version": "3.9.7"
  }
 },
 "nbformat": 4,
 "nbformat_minor": 5
}
