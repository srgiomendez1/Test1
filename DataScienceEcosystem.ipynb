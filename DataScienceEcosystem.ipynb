{
 "cells": [
  {
   "cell_type": "markdown",
   "id": "0ce6cad1-2d65-4607-b038-26f734566e85",
   "metadata": {},
   "source": [
    "# Data Science Tools and Ecosystem"
   ]
  },
  {
   "cell_type": "markdown",
   "id": "690c1788-2aa9-4284-b974-466799087122",
   "metadata": {},
   "source": [
    "In this notebook, Data Science Tools and Ecosystem are summarized."
   ]
  },
  {
   "cell_type": "markdown",
   "id": "130d1326-9a46-43e7-bcf6-bc13a983aeba",
   "metadata": {},
   "source": [
    "**Objectives:**\n",
    "\n",
    "* List popular languages\n",
    "* List some commonly used libraries\n",
    "* List popular data science tools\n",
    "* Others"
   ]
  },
  {
   "cell_type": "markdown",
   "id": "e11b8496-9d0e-465d-9602-af8456a39799",
   "metadata": {},
   "source": [
    "Some of the popular languages that Data Scientists use are:\n",
    "1. Python\n",
    "2. R\n",
    "3. SQL\n"
   ]
  },
  {
   "cell_type": "markdown",
   "id": "01a40323-fc25-46c0-9e07-00f77e4686a7",
   "metadata": {},
   "source": [
    "Some of the commonly used libraries used by Data Scientists include:\n",
    "1. Pandas\n",
    "2. Numpy\n",
    "3. Matplotlib\n",
    "4. Sckikit Learn\n",
    "5. Amongst others"
   ]
  },
  {
   "cell_type": "markdown",
   "id": "615cde36-189f-462e-b951-24ed1bb405d3",
   "metadata": {},
   "source": [
    "|Data Science Tools|\n",
    "|------------------|\n",
    "|Jupyter Lab|\n",
    "|VS Code|\n",
    "|Git|\n"
   ]
  },
  {
   "cell_type": "markdown",
   "id": "440f9ffc-6a7c-4867-a558-f1ab9d196d67",
   "metadata": {},
   "source": [
    "### Below are a few examples of evaluating arithmetic expressions in Python"
   ]
  },
  {
   "cell_type": "code",
   "execution_count": 5,
   "id": "0d7118f4-ba61-41d5-ae54-c8e2bb3de175",
   "metadata": {},
   "outputs": [
    {
     "data": {
      "text/plain": [
       "17"
      ]
     },
     "execution_count": 5,
     "metadata": {},
     "output_type": "execute_result"
    }
   ],
   "source": [
    "#This a simple arithmetic expression to mutiply then add integers\n",
    "(3*4)+5"
   ]
  },
  {
   "cell_type": "code",
   "execution_count": 16,
   "id": "83d47ec6-6771-4ce1-bff1-4e665776402d",
   "metadata": {},
   "outputs": [
    {
     "name": "stdout",
     "output_type": "stream",
     "text": [
      "3.3333333333333335  hours\n"
     ]
    }
   ],
   "source": [
    "#This will convert 200 minutes to hours by diving by 60\n",
    "minutes = 200\n",
    "hrs = hrs/60\n",
    "print(hrs,\" hours\")"
   ]
  },
  {
   "cell_type": "markdown",
   "id": "ac1a397d-99d0-4477-a61d-788487cbb12c",
   "metadata": {},
   "source": [
    "## Author\n",
    "Sergio Mendez"
   ]
  },
  {
   "cell_type": "code",
   "execution_count": null,
   "id": "714aed53-9399-4e33-bf10-40d787d4e1ef",
   "metadata": {},
   "outputs": [],
   "source": []
  }
 ],
 "metadata": {
  "kernelspec": {
   "display_name": "Python 3 (ipykernel)",
   "language": "python",
   "name": "python3"
  },
  "language_info": {
   "codemirror_mode": {
    "name": "ipython",
    "version": 3
   },
   "file_extension": ".py",
   "mimetype": "text/x-python",
   "name": "python",
   "nbconvert_exporter": "python",
   "pygments_lexer": "ipython3",
   "version": "3.9.7"
  }
 },
 "nbformat": 4,
 "nbformat_minor": 5
}
